{
 "cells": [
  {
   "cell_type": "markdown",
   "metadata": {},
   "source": [
    "## Visualizando con Pandas y Matplotlib\n",
    "\n",
    "http://pandas.pydata.org/pandas-docs/stable/visualization.html\n",
    "    "
   ]
  },
  {
   "cell_type": "code",
   "execution_count": 1,
   "metadata": {},
   "outputs": [
    {
     "data": {
      "text/plain": [
       "'0.23.4'"
      ]
     },
     "execution_count": 1,
     "metadata": {},
     "output_type": "execute_result"
    }
   ],
   "source": [
    "import pandas as pd\n",
    "import numpy as np\n",
    "import matplotlib.pyplot as plt\n",
    "\n",
    "import seaborn as sns\n",
    "\n",
    "pd.__version__\n"
   ]
  },
  {
   "cell_type": "code",
   "execution_count": 3,
   "metadata": {},
   "outputs": [
    {
     "data": {
      "text/html": [
       "<div>\n",
       "<style scoped>\n",
       "    .dataframe tbody tr th:only-of-type {\n",
       "        vertical-align: middle;\n",
       "    }\n",
       "\n",
       "    .dataframe tbody tr th {\n",
       "        vertical-align: top;\n",
       "    }\n",
       "\n",
       "    .dataframe thead th {\n",
       "        text-align: right;\n",
       "    }\n",
       "</style>\n",
       "<table border=\"1\" class=\"dataframe\">\n",
       "  <thead>\n",
       "    <tr style=\"text-align: right;\">\n",
       "      <th></th>\n",
       "      <th>account number</th>\n",
       "      <th>name</th>\n",
       "      <th>sku</th>\n",
       "      <th>category</th>\n",
       "      <th>quantity</th>\n",
       "      <th>unit price</th>\n",
       "      <th>ext price</th>\n",
       "      <th>date</th>\n",
       "    </tr>\n",
       "  </thead>\n",
       "  <tbody>\n",
       "    <tr>\n",
       "      <th>0</th>\n",
       "      <td>296809</td>\n",
       "      <td>Carroll PLC</td>\n",
       "      <td>QN-82852</td>\n",
       "      <td>Belt</td>\n",
       "      <td>13</td>\n",
       "      <td>44.48</td>\n",
       "      <td>578.24</td>\n",
       "      <td>2014-09-27 07:13:03</td>\n",
       "    </tr>\n",
       "    <tr>\n",
       "      <th>1</th>\n",
       "      <td>98022</td>\n",
       "      <td>Heidenreich-Bosco</td>\n",
       "      <td>MJ-21460</td>\n",
       "      <td>Shoes</td>\n",
       "      <td>19</td>\n",
       "      <td>53.62</td>\n",
       "      <td>1018.78</td>\n",
       "      <td>2014-07-29 02:10:44</td>\n",
       "    </tr>\n",
       "    <tr>\n",
       "      <th>2</th>\n",
       "      <td>563905</td>\n",
       "      <td>Kerluke, Reilly and Bechtelar</td>\n",
       "      <td>AS-93055</td>\n",
       "      <td>Shirt</td>\n",
       "      <td>12</td>\n",
       "      <td>24.16</td>\n",
       "      <td>289.92</td>\n",
       "      <td>2014-03-01 10:51:24</td>\n",
       "    </tr>\n",
       "    <tr>\n",
       "      <th>3</th>\n",
       "      <td>93356</td>\n",
       "      <td>Waters-Walker</td>\n",
       "      <td>AS-93055</td>\n",
       "      <td>Shirt</td>\n",
       "      <td>5</td>\n",
       "      <td>82.68</td>\n",
       "      <td>413.40</td>\n",
       "      <td>2013-11-17 20:41:11</td>\n",
       "    </tr>\n",
       "    <tr>\n",
       "      <th>4</th>\n",
       "      <td>659366</td>\n",
       "      <td>Waelchi-Fahey</td>\n",
       "      <td>AS-93055</td>\n",
       "      <td>Shirt</td>\n",
       "      <td>18</td>\n",
       "      <td>99.64</td>\n",
       "      <td>1793.52</td>\n",
       "      <td>2014-01-03 08:14:27</td>\n",
       "    </tr>\n",
       "  </tbody>\n",
       "</table>\n",
       "</div>"
      ],
      "text/plain": [
       "   account number                           name       sku category  quantity  \\\n",
       "0          296809                    Carroll PLC  QN-82852     Belt        13   \n",
       "1           98022              Heidenreich-Bosco  MJ-21460    Shoes        19   \n",
       "2          563905  Kerluke, Reilly and Bechtelar  AS-93055    Shirt        12   \n",
       "3           93356                  Waters-Walker  AS-93055    Shirt         5   \n",
       "4          659366                  Waelchi-Fahey  AS-93055    Shirt        18   \n",
       "\n",
       "   unit price  ext price                date  \n",
       "0       44.48     578.24 2014-09-27 07:13:03  \n",
       "1       53.62    1018.78 2014-07-29 02:10:44  \n",
       "2       24.16     289.92 2014-03-01 10:51:24  \n",
       "3       82.68     413.40 2013-11-17 20:41:11  \n",
       "4       99.64    1793.52 2014-01-03 08:14:27  "
      ]
     },
     "execution_count": 3,
     "metadata": {},
     "output_type": "execute_result"
    }
   ],
   "source": [
    "%matplotlib inline\n",
    "sales = pd.read_csv(\"https://pbpython.com/extras/sample-salesv2.csv\",parse_dates=['date'])\n",
    "sales.head()"
   ]
  },
  {
   "cell_type": "code",
   "execution_count": 4,
   "metadata": {},
   "outputs": [
    {
     "data": {
      "text/html": [
       "<div>\n",
       "<style scoped>\n",
       "    .dataframe tbody tr th:only-of-type {\n",
       "        vertical-align: middle;\n",
       "    }\n",
       "\n",
       "    .dataframe tbody tr th {\n",
       "        vertical-align: top;\n",
       "    }\n",
       "\n",
       "    .dataframe thead th {\n",
       "        text-align: right;\n",
       "    }\n",
       "</style>\n",
       "<table border=\"1\" class=\"dataframe\">\n",
       "  <thead>\n",
       "    <tr style=\"text-align: right;\">\n",
       "      <th></th>\n",
       "      <th>account number</th>\n",
       "      <th>quantity</th>\n",
       "      <th>unit price</th>\n",
       "      <th>ext price</th>\n",
       "    </tr>\n",
       "  </thead>\n",
       "  <tbody>\n",
       "    <tr>\n",
       "      <th>count</th>\n",
       "      <td>1000.000000</td>\n",
       "      <td>1000.000000</td>\n",
       "      <td>1000.000000</td>\n",
       "      <td>1000.00000</td>\n",
       "    </tr>\n",
       "    <tr>\n",
       "      <th>mean</th>\n",
       "      <td>535208.897000</td>\n",
       "      <td>10.328000</td>\n",
       "      <td>56.179630</td>\n",
       "      <td>579.84390</td>\n",
       "    </tr>\n",
       "    <tr>\n",
       "      <th>std</th>\n",
       "      <td>277589.746014</td>\n",
       "      <td>5.687597</td>\n",
       "      <td>25.331939</td>\n",
       "      <td>435.30381</td>\n",
       "    </tr>\n",
       "    <tr>\n",
       "      <th>min</th>\n",
       "      <td>93356.000000</td>\n",
       "      <td>1.000000</td>\n",
       "      <td>10.060000</td>\n",
       "      <td>10.38000</td>\n",
       "    </tr>\n",
       "    <tr>\n",
       "      <th>25%</th>\n",
       "      <td>299771.000000</td>\n",
       "      <td>5.750000</td>\n",
       "      <td>35.995000</td>\n",
       "      <td>232.60500</td>\n",
       "    </tr>\n",
       "    <tr>\n",
       "      <th>50%</th>\n",
       "      <td>563905.000000</td>\n",
       "      <td>10.000000</td>\n",
       "      <td>56.765000</td>\n",
       "      <td>471.72000</td>\n",
       "    </tr>\n",
       "    <tr>\n",
       "      <th>75%</th>\n",
       "      <td>750461.000000</td>\n",
       "      <td>15.000000</td>\n",
       "      <td>76.802500</td>\n",
       "      <td>878.13750</td>\n",
       "    </tr>\n",
       "    <tr>\n",
       "      <th>max</th>\n",
       "      <td>995267.000000</td>\n",
       "      <td>20.000000</td>\n",
       "      <td>99.970000</td>\n",
       "      <td>1994.80000</td>\n",
       "    </tr>\n",
       "  </tbody>\n",
       "</table>\n",
       "</div>"
      ],
      "text/plain": [
       "       account number     quantity   unit price   ext price\n",
       "count     1000.000000  1000.000000  1000.000000  1000.00000\n",
       "mean    535208.897000    10.328000    56.179630   579.84390\n",
       "std     277589.746014     5.687597    25.331939   435.30381\n",
       "min      93356.000000     1.000000    10.060000    10.38000\n",
       "25%     299771.000000     5.750000    35.995000   232.60500\n",
       "50%     563905.000000    10.000000    56.765000   471.72000\n",
       "75%     750461.000000    15.000000    76.802500   878.13750\n",
       "max     995267.000000    20.000000    99.970000  1994.80000"
      ]
     },
     "execution_count": 4,
     "metadata": {},
     "output_type": "execute_result"
    }
   ],
   "source": [
    "sales.describe()"
   ]
  },
  {
   "cell_type": "markdown",
   "metadata": {},
   "source": [
    "Lo que podemos ver en la descripción:\n",
    "- Tenemos 1000 registros. \n",
    "- Los agregados sobre account_number no significan nada.\n",
    "- quantity: Tenemos un promedio de 10.32 items por transaccion y stdev de 5.68\n",
    "- El costo promedio de cada transaccion es de 579.84\n",
    "\n",
    "Para ver columnas individuales:"
   ]
  },
  {
   "cell_type": "code",
   "execution_count": 5,
   "metadata": {},
   "outputs": [
    {
     "data": {
      "text/plain": [
       "count    1000.000000\n",
       "mean       56.179630\n",
       "std        25.331939\n",
       "min        10.060000\n",
       "25%        35.995000\n",
       "50%        56.765000\n",
       "75%        76.802500\n",
       "max        99.970000\n",
       "Name: unit price, dtype: float64"
      ]
     },
     "execution_count": 5,
     "metadata": {},
     "output_type": "execute_result"
    }
   ],
   "source": [
    "sales['unit price'].describe()"
   ]
  },
  {
   "cell_type": "markdown",
   "metadata": {},
   "source": [
    "Para ver los tipos de datos de cada columna, usamos dtypes.\n"
   ]
  },
  {
   "cell_type": "code",
   "execution_count": 5,
   "metadata": {},
   "outputs": [
    {
     "data": {
      "text/plain": [
       "account number             int64\n",
       "name                      object\n",
       "sku                       object\n",
       "category                  object\n",
       "quantity                   int64\n",
       "unit price               float64\n",
       "ext price                float64\n",
       "date              datetime64[ns]\n",
       "dtype: object"
      ]
     },
     "execution_count": 5,
     "metadata": {},
     "output_type": "execute_result"
    }
   ],
   "source": [
    "sales.dtypes"
   ]
  },
  {
   "cell_type": "markdown",
   "metadata": {},
   "source": [
    "# Graficando datos\n",
    "\n"
   ]
  },
  {
   "cell_type": "markdown",
   "metadata": {},
   "source": [
    "Crear un histograma de una variable"
   ]
  },
  {
   "cell_type": "code",
   "execution_count": 6,
   "metadata": {},
   "outputs": [
    {
     "data": {
      "text/plain": [
       "<matplotlib.axes._subplots.AxesSubplot at 0x10b9d5358>"
      ]
     },
     "execution_count": 6,
     "metadata": {},
     "output_type": "execute_result"
    },
    {
     "data": {
      "image/png": "[encoded data removed]",
      "text/plain": [
       "<Figure size 432x288 with 1 Axes>"
      ]
     },
     "metadata": {
      "needs_background": "light"
     },
     "output_type": "display_data"
    }
   ],
   "source": [
    "#sns.set(style=\"dark\")\n",
    "\n",
    "sales['ext price'].hist(bins=10)\n"
   ]
  },
  {
   "cell_type": "markdown",
   "metadata": {},
   "source": [
    "Sumarizar el dataset, eliminar algunas columnas para facilitar el análisis. \n"
   ]
  },
  {
   "cell_type": "code",
   "execution_count": 7,
   "metadata": {},
   "outputs": [
    {
     "data": {
      "text/html": [
       "<div>\n",
       "<style scoped>\n",
       "    .dataframe tbody tr th:only-of-type {\n",
       "        vertical-align: middle;\n",
       "    }\n",
       "\n",
       "    .dataframe tbody tr th {\n",
       "        vertical-align: top;\n",
       "    }\n",
       "\n",
       "    .dataframe thead th {\n",
       "        text-align: right;\n",
       "    }\n",
       "</style>\n",
       "<table border=\"1\" class=\"dataframe\">\n",
       "  <thead>\n",
       "    <tr style=\"text-align: right;\">\n",
       "      <th></th>\n",
       "      <th>name</th>\n",
       "      <th>ext price</th>\n",
       "      <th>date</th>\n",
       "    </tr>\n",
       "  </thead>\n",
       "  <tbody>\n",
       "    <tr>\n",
       "      <th>0</th>\n",
       "      <td>Carroll PLC</td>\n",
       "      <td>578.24</td>\n",
       "      <td>2014-09-27 07:13:03</td>\n",
       "    </tr>\n",
       "    <tr>\n",
       "      <th>1</th>\n",
       "      <td>Heidenreich-Bosco</td>\n",
       "      <td>1018.78</td>\n",
       "      <td>2014-07-29 02:10:44</td>\n",
       "    </tr>\n",
       "    <tr>\n",
       "      <th>2</th>\n",
       "      <td>Kerluke, Reilly and Bechtelar</td>\n",
       "      <td>289.92</td>\n",
       "      <td>2014-03-01 10:51:24</td>\n",
       "    </tr>\n",
       "    <tr>\n",
       "      <th>3</th>\n",
       "      <td>Waters-Walker</td>\n",
       "      <td>413.40</td>\n",
       "      <td>2013-11-17 20:41:11</td>\n",
       "    </tr>\n",
       "    <tr>\n",
       "      <th>4</th>\n",
       "      <td>Waelchi-Fahey</td>\n",
       "      <td>1793.52</td>\n",
       "      <td>2014-01-03 08:14:27</td>\n",
       "    </tr>\n",
       "  </tbody>\n",
       "</table>\n",
       "</div>"
      ],
      "text/plain": [
       "                            name  ext price                date\n",
       "0                    Carroll PLC     578.24 2014-09-27 07:13:03\n",
       "1              Heidenreich-Bosco    1018.78 2014-07-29 02:10:44\n",
       "2  Kerluke, Reilly and Bechtelar     289.92 2014-03-01 10:51:24\n",
       "3                  Waters-Walker     413.40 2013-11-17 20:41:11\n",
       "4                  Waelchi-Fahey    1793.52 2014-01-03 08:14:27"
      ]
     },
     "execution_count": 7,
     "metadata": {},
     "output_type": "execute_result"
    }
   ],
   "source": [
    "customers = sales[['name','ext price','date']]\n",
    "customers.head()"
   ]
  },
  {
   "cell_type": "markdown",
   "metadata": {},
   "source": [
    "Para ver la distribucion de compras por cliente."
   ]
  },
  {
   "cell_type": "code",
   "execution_count": 8,
   "metadata": {},
   "outputs": [
    {
     "data": {
      "text/plain": [
       "name\n",
       "Berge LLC                        52\n",
       "Carroll PLC                      57\n",
       "Cole-Eichmann                    51\n",
       "Davis, Kshlerin and Reilly       41\n",
       "Ernser, Cruickshank and Lind     47\n",
       "Gorczany-Hahn                    42\n",
       "Hamill-Hackett                   44\n",
       "Hegmann and Sons                 58\n",
       "Heidenreich-Bosco                40\n",
       "Huel-Haag                        43\n",
       "Kerluke, Reilly and Bechtelar    52\n",
       "Kihn, McClure and Denesik        58\n",
       "Kilback-Gerlach                  45\n",
       "Koelpin PLC                      53\n",
       "Kunze Inc                        54\n",
       "Kuphal, Zieme and Kub            52\n",
       "Senger, Upton and Breitenberg    59\n",
       "Volkman, Goyette and Lemke       48\n",
       "Waelchi-Fahey                    54\n",
       "Waters-Walker                    50\n",
       "dtype: int64"
      ]
     },
     "execution_count": 8,
     "metadata": {},
     "output_type": "execute_result"
    }
   ],
   "source": [
    "customer_group = customers.groupby('name')\n",
    "# customer_group.describe() \n",
    "#customer_group.mean()\n",
    "customer_group.size()"
   ]
  },
  {
   "cell_type": "markdown",
   "metadata": {},
   "source": [
    "Ahora, determinar cuanto compró cada cliente, utilizando la función sum y sort para mostrar los mayores compradores.\n"
   ]
  },
  {
   "cell_type": "code",
   "execution_count": 9,
   "metadata": {},
   "outputs": [
    {
     "data": {
      "text/html": [
       "<div>\n",
       "<style scoped>\n",
       "    .dataframe tbody tr th:only-of-type {\n",
       "        vertical-align: middle;\n",
       "    }\n",
       "\n",
       "    .dataframe tbody tr th {\n",
       "        vertical-align: top;\n",
       "    }\n",
       "\n",
       "    .dataframe thead th {\n",
       "        text-align: right;\n",
       "    }\n",
       "</style>\n",
       "<table border=\"1\" class=\"dataframe\">\n",
       "  <thead>\n",
       "    <tr style=\"text-align: right;\">\n",
       "      <th></th>\n",
       "      <th>ext price</th>\n",
       "    </tr>\n",
       "    <tr>\n",
       "      <th>name</th>\n",
       "      <th></th>\n",
       "    </tr>\n",
       "  </thead>\n",
       "  <tbody>\n",
       "    <tr>\n",
       "      <th>Berge LLC</th>\n",
       "      <td>30064.87</td>\n",
       "    </tr>\n",
       "    <tr>\n",
       "      <th>Carroll PLC</th>\n",
       "      <td>35934.31</td>\n",
       "    </tr>\n",
       "    <tr>\n",
       "      <th>Cole-Eichmann</th>\n",
       "      <td>30435.42</td>\n",
       "    </tr>\n",
       "    <tr>\n",
       "      <th>Davis, Kshlerin and Reilly</th>\n",
       "      <td>19054.76</td>\n",
       "    </tr>\n",
       "    <tr>\n",
       "      <th>Ernser, Cruickshank and Lind</th>\n",
       "      <td>28089.02</td>\n",
       "    </tr>\n",
       "    <tr>\n",
       "      <th>Gorczany-Hahn</th>\n",
       "      <td>22207.90</td>\n",
       "    </tr>\n",
       "    <tr>\n",
       "      <th>Hamill-Hackett</th>\n",
       "      <td>23433.78</td>\n",
       "    </tr>\n",
       "    <tr>\n",
       "      <th>Hegmann and Sons</th>\n",
       "      <td>35213.72</td>\n",
       "    </tr>\n",
       "    <tr>\n",
       "      <th>Heidenreich-Bosco</th>\n",
       "      <td>25428.29</td>\n",
       "    </tr>\n",
       "    <tr>\n",
       "      <th>Huel-Haag</th>\n",
       "      <td>21087.88</td>\n",
       "    </tr>\n",
       "    <tr>\n",
       "      <th>Kerluke, Reilly and Bechtelar</th>\n",
       "      <td>27389.43</td>\n",
       "    </tr>\n",
       "    <tr>\n",
       "      <th>Kihn, McClure and Denesik</th>\n",
       "      <td>38935.29</td>\n",
       "    </tr>\n",
       "    <tr>\n",
       "      <th>Kilback-Gerlach</th>\n",
       "      <td>26987.20</td>\n",
       "    </tr>\n",
       "    <tr>\n",
       "      <th>Koelpin PLC</th>\n",
       "      <td>26811.66</td>\n",
       "    </tr>\n",
       "    <tr>\n",
       "      <th>Kunze Inc</th>\n",
       "      <td>34406.54</td>\n",
       "    </tr>\n",
       "    <tr>\n",
       "      <th>Kuphal, Zieme and Kub</th>\n",
       "      <td>27031.86</td>\n",
       "    </tr>\n",
       "    <tr>\n",
       "      <th>Senger, Upton and Breitenberg</th>\n",
       "      <td>29577.46</td>\n",
       "    </tr>\n",
       "    <tr>\n",
       "      <th>Volkman, Goyette and Lemke</th>\n",
       "      <td>32006.87</td>\n",
       "    </tr>\n",
       "    <tr>\n",
       "      <th>Waelchi-Fahey</th>\n",
       "      <td>28968.68</td>\n",
       "    </tr>\n",
       "    <tr>\n",
       "      <th>Waters-Walker</th>\n",
       "      <td>36778.96</td>\n",
       "    </tr>\n",
       "  </tbody>\n",
       "</table>\n",
       "</div>"
      ],
      "text/plain": [
       "                               ext price\n",
       "name                                    \n",
       "Berge LLC                       30064.87\n",
       "Carroll PLC                     35934.31\n",
       "Cole-Eichmann                   30435.42\n",
       "Davis, Kshlerin and Reilly      19054.76\n",
       "Ernser, Cruickshank and Lind    28089.02\n",
       "Gorczany-Hahn                   22207.90\n",
       "Hamill-Hackett                  23433.78\n",
       "Hegmann and Sons                35213.72\n",
       "Heidenreich-Bosco               25428.29\n",
       "Huel-Haag                       21087.88\n",
       "Kerluke, Reilly and Bechtelar   27389.43\n",
       "Kihn, McClure and Denesik       38935.29\n",
       "Kilback-Gerlach                 26987.20\n",
       "Koelpin PLC                     26811.66\n",
       "Kunze Inc                       34406.54\n",
       "Kuphal, Zieme and Kub           27031.86\n",
       "Senger, Upton and Breitenberg   29577.46\n",
       "Volkman, Goyette and Lemke      32006.87\n",
       "Waelchi-Fahey                   28968.68\n",
       "Waters-Walker                   36778.96"
      ]
     },
     "execution_count": 9,
     "metadata": {},
     "output_type": "execute_result"
    }
   ],
   "source": [
    "sales_totals = customer_group.sum()\n",
    "sales_totals"
   ]
  },
  {
   "cell_type": "markdown",
   "metadata": {},
   "source": [
    "Ya que tenemos un dataframe resumido, producir una gráfica es muy simple."
   ]
  },
  {
   "cell_type": "code",
   "execution_count": 10,
   "metadata": {},
   "outputs": [
    {
     "data": {
      "image/png": "[encoded data removed]",
      "text/plain": [
       "<Figure size 432x288 with 1 Axes>"
      ]
     },
     "metadata": {
      "needs_background": "light"
     },
     "output_type": "display_data"
    }
   ],
   "source": [
    "my_plot = sales_totals.plot(kind='bar')"
   ]
  },
  {
   "cell_type": "markdown",
   "metadata": {},
   "source": [
    "Sin embargo, esta grafica es limitada. Vamos a intentar las siguientes mejoras:\n",
    "    - ordenar de forma descendiente\n",
    "    - eliminar la leyenda del eje x\n",
    "    - agregar un titulo\n",
    "    - agregar titulos de los ejes"
   ]
  },
  {
   "cell_type": "code",
   "execution_count": 11,
   "metadata": {},
   "outputs": [
    {
     "data": {
      "text/plain": [
       "Text(0,0.5,'Sales ($)')"
      ]
     },
     "execution_count": 11,
     "metadata": {},
     "output_type": "execute_result"
    },
    {
     "data": {
      "image/png": "[encoded data removed]",
      "text/plain": [
       "<Figure size 432x288 with 1 Axes>"
      ]
     },
     "metadata": {
      "needs_background": "light"
     },
     "output_type": "display_data"
    }
   ],
   "source": [
    "my_plot = sales_totals.sort_values(by='ext price',ascending=False).plot(kind='bar',legend=None,title='Total Sales')\n",
    "my_plot.set_xlabel(\"Customers\")\n",
    "my_plot.set_ylabel(\"Sales ($)\")"
   ]
  },
  {
   "cell_type": "markdown",
   "metadata": {},
   "source": [
    "Resumen general de las categorias, usamos pie, pero podemos simplemente cambiar a \"bar\""
   ]
  },
  {
   "cell_type": "code",
   "execution_count": 12,
   "metadata": {},
   "outputs": [
    {
     "data": {
      "text/plain": [
       "array([<matplotlib.axes._subplots.AxesSubplot object at 0x11ce45780>],\n",
       "      dtype=object)"
      ]
     },
     "execution_count": 12,
     "metadata": {},
     "output_type": "execute_result"
    },
    {
     "data": {
      "image/png": "[encoded data removed]",
      "text/plain": [
       "<Figure size 360x360 with 1 Axes>"
      ]
     },
     "metadata": {},
     "output_type": "display_data"
    }
   ],
   "source": [
    "cat_summary = sales[['name','category','ext price']].groupby('category').sum()\n",
    "cat_summary\n",
    "cat_summary.plot(kind=\"pie\",subplots=True,figsize=(5,5))"
   ]
  },
  {
   "cell_type": "markdown",
   "metadata": {},
   "source": [
    "Ahora nos interesa poder hacer algunas graficas para entender el comportamiento de las categorias\n"
   ]
  },
  {
   "cell_type": "code",
   "execution_count": 13,
   "metadata": {},
   "outputs": [
    {
     "data": {
      "text/html": [
       "<div>\n",
       "<style scoped>\n",
       "    .dataframe tbody tr th:only-of-type {\n",
       "        vertical-align: middle;\n",
       "    }\n",
       "\n",
       "    .dataframe tbody tr th {\n",
       "        vertical-align: top;\n",
       "    }\n",
       "\n",
       "    .dataframe thead th {\n",
       "        text-align: right;\n",
       "    }\n",
       "</style>\n",
       "<table border=\"1\" class=\"dataframe\">\n",
       "  <thead>\n",
       "    <tr style=\"text-align: right;\">\n",
       "      <th></th>\n",
       "      <th>name</th>\n",
       "      <th>category</th>\n",
       "      <th>ext price</th>\n",
       "      <th>date</th>\n",
       "    </tr>\n",
       "  </thead>\n",
       "  <tbody>\n",
       "    <tr>\n",
       "      <th>0</th>\n",
       "      <td>Carroll PLC</td>\n",
       "      <td>Belt</td>\n",
       "      <td>578.24</td>\n",
       "      <td>2014-09-27 07:13:03</td>\n",
       "    </tr>\n",
       "    <tr>\n",
       "      <th>1</th>\n",
       "      <td>Heidenreich-Bosco</td>\n",
       "      <td>Shoes</td>\n",
       "      <td>1018.78</td>\n",
       "      <td>2014-07-29 02:10:44</td>\n",
       "    </tr>\n",
       "    <tr>\n",
       "      <th>2</th>\n",
       "      <td>Kerluke, Reilly and Bechtelar</td>\n",
       "      <td>Shirt</td>\n",
       "      <td>289.92</td>\n",
       "      <td>2014-03-01 10:51:24</td>\n",
       "    </tr>\n",
       "    <tr>\n",
       "      <th>3</th>\n",
       "      <td>Waters-Walker</td>\n",
       "      <td>Shirt</td>\n",
       "      <td>413.40</td>\n",
       "      <td>2013-11-17 20:41:11</td>\n",
       "    </tr>\n",
       "    <tr>\n",
       "      <th>4</th>\n",
       "      <td>Waelchi-Fahey</td>\n",
       "      <td>Shirt</td>\n",
       "      <td>1793.52</td>\n",
       "      <td>2014-01-03 08:14:27</td>\n",
       "    </tr>\n",
       "  </tbody>\n",
       "</table>\n",
       "</div>"
      ],
      "text/plain": [
       "                            name category  ext price                date\n",
       "0                    Carroll PLC     Belt     578.24 2014-09-27 07:13:03\n",
       "1              Heidenreich-Bosco    Shoes    1018.78 2014-07-29 02:10:44\n",
       "2  Kerluke, Reilly and Bechtelar    Shirt     289.92 2014-03-01 10:51:24\n",
       "3                  Waters-Walker    Shirt     413.40 2013-11-17 20:41:11\n",
       "4                  Waelchi-Fahey    Shirt    1793.52 2014-01-03 08:14:27"
      ]
     },
     "execution_count": 13,
     "metadata": {},
     "output_type": "execute_result"
    }
   ],
   "source": [
    "customers = sales[['name','category','ext price','date']]\n",
    "customers.head()"
   ]
  },
  {
   "cell_type": "markdown",
   "metadata": {},
   "source": [
    "Obtener el histograma de una sola categoria.\n"
   ]
  },
  {
   "cell_type": "code",
   "execution_count": 14,
   "metadata": {},
   "outputs": [
    {
     "data": {
      "text/plain": [
       "array([[<matplotlib.axes._subplots.AxesSubplot object at 0x1a1f981ba8>]],\n",
       "      dtype=object)"
      ]
     },
     "execution_count": 14,
     "metadata": {},
     "output_type": "execute_result"
    },
    {
     "data": {
      "image/png": "[encoded data removed]",
      "text/plain": [
       "<Figure size 432x288 with 1 Axes>"
      ]
     },
     "metadata": {
      "needs_background": "light"
     },
     "output_type": "display_data"
    }
   ],
   "source": [
    "cat_group = customers.groupby(['category','name']).sum()\n",
    "#cat_group\n",
    "cat_group.reset_index(inplace=True)\n",
    "#cat_group\n",
    "\n",
    "belts = cat_group[cat_group['category'] == \"Belt\"]\n",
    "#belts\n",
    "belts.hist(bins=10)"
   ]
  },
  {
   "cell_type": "code",
   "execution_count": 15,
   "metadata": {},
   "outputs": [
    {
     "data": {
      "text/html": [
       "<div>\n",
       "<style scoped>\n",
       "    .dataframe tbody tr th:only-of-type {\n",
       "        vertical-align: middle;\n",
       "    }\n",
       "\n",
       "    .dataframe tbody tr th {\n",
       "        vertical-align: top;\n",
       "    }\n",
       "\n",
       "    .dataframe thead th {\n",
       "        text-align: right;\n",
       "    }\n",
       "</style>\n",
       "<table border=\"1\" class=\"dataframe\">\n",
       "  <thead>\n",
       "    <tr style=\"text-align: right;\">\n",
       "      <th></th>\n",
       "      <th></th>\n",
       "      <th>ext price</th>\n",
       "    </tr>\n",
       "    <tr>\n",
       "      <th>name</th>\n",
       "      <th>category</th>\n",
       "      <th></th>\n",
       "    </tr>\n",
       "  </thead>\n",
       "  <tbody>\n",
       "    <tr>\n",
       "      <th rowspan=\"3\" valign=\"top\">Berge LLC</th>\n",
       "      <th>Belt</th>\n",
       "      <td>6033.53</td>\n",
       "    </tr>\n",
       "    <tr>\n",
       "      <th>Shirt</th>\n",
       "      <td>9670.24</td>\n",
       "    </tr>\n",
       "    <tr>\n",
       "      <th>Shoes</th>\n",
       "      <td>14361.10</td>\n",
       "    </tr>\n",
       "    <tr>\n",
       "      <th rowspan=\"3\" valign=\"top\">Carroll PLC</th>\n",
       "      <th>Belt</th>\n",
       "      <td>9359.26</td>\n",
       "    </tr>\n",
       "    <tr>\n",
       "      <th>Shirt</th>\n",
       "      <td>13717.61</td>\n",
       "    </tr>\n",
       "    <tr>\n",
       "      <th>Shoes</th>\n",
       "      <td>12857.44</td>\n",
       "    </tr>\n",
       "    <tr>\n",
       "      <th rowspan=\"3\" valign=\"top\">Cole-Eichmann</th>\n",
       "      <th>Belt</th>\n",
       "      <td>8112.70</td>\n",
       "    </tr>\n",
       "    <tr>\n",
       "      <th>Shirt</th>\n",
       "      <td>14528.01</td>\n",
       "    </tr>\n",
       "    <tr>\n",
       "      <th>Shoes</th>\n",
       "      <td>7794.71</td>\n",
       "    </tr>\n",
       "    <tr>\n",
       "      <th rowspan=\"3\" valign=\"top\">Davis, Kshlerin and Reilly</th>\n",
       "      <th>Belt</th>\n",
       "      <td>1604.13</td>\n",
       "    </tr>\n",
       "    <tr>\n",
       "      <th>Shirt</th>\n",
       "      <td>7533.03</td>\n",
       "    </tr>\n",
       "    <tr>\n",
       "      <th>Shoes</th>\n",
       "      <td>9917.60</td>\n",
       "    </tr>\n",
       "    <tr>\n",
       "      <th rowspan=\"3\" valign=\"top\">Ernser, Cruickshank and Lind</th>\n",
       "      <th>Belt</th>\n",
       "      <td>5894.38</td>\n",
       "    </tr>\n",
       "    <tr>\n",
       "      <th>Shirt</th>\n",
       "      <td>16944.19</td>\n",
       "    </tr>\n",
       "    <tr>\n",
       "      <th>Shoes</th>\n",
       "      <td>5250.45</td>\n",
       "    </tr>\n",
       "    <tr>\n",
       "      <th rowspan=\"3\" valign=\"top\">Gorczany-Hahn</th>\n",
       "      <th>Belt</th>\n",
       "      <td>3642.48</td>\n",
       "    </tr>\n",
       "    <tr>\n",
       "      <th>Shirt</th>\n",
       "      <td>12576.83</td>\n",
       "    </tr>\n",
       "    <tr>\n",
       "      <th>Shoes</th>\n",
       "      <td>5988.59</td>\n",
       "    </tr>\n",
       "    <tr>\n",
       "      <th rowspan=\"3\" valign=\"top\">Hamill-Hackett</th>\n",
       "      <th>Belt</th>\n",
       "      <td>1609.74</td>\n",
       "    </tr>\n",
       "    <tr>\n",
       "      <th>Shirt</th>\n",
       "      <td>8880.04</td>\n",
       "    </tr>\n",
       "    <tr>\n",
       "      <th>Shoes</th>\n",
       "      <td>12944.00</td>\n",
       "    </tr>\n",
       "    <tr>\n",
       "      <th rowspan=\"3\" valign=\"top\">Hegmann and Sons</th>\n",
       "      <th>Belt</th>\n",
       "      <td>4909.38</td>\n",
       "    </tr>\n",
       "    <tr>\n",
       "      <th>Shirt</th>\n",
       "      <td>16774.47</td>\n",
       "    </tr>\n",
       "    <tr>\n",
       "      <th>Shoes</th>\n",
       "      <td>13529.87</td>\n",
       "    </tr>\n",
       "    <tr>\n",
       "      <th rowspan=\"3\" valign=\"top\">Heidenreich-Bosco</th>\n",
       "      <th>Belt</th>\n",
       "      <td>6262.94</td>\n",
       "    </tr>\n",
       "    <tr>\n",
       "      <th>Shirt</th>\n",
       "      <td>5965.25</td>\n",
       "    </tr>\n",
       "    <tr>\n",
       "      <th>Shoes</th>\n",
       "      <td>13200.10</td>\n",
       "    </tr>\n",
       "    <tr>\n",
       "      <th rowspan=\"3\" valign=\"top\">Huel-Haag</th>\n",
       "      <th>Belt</th>\n",
       "      <td>2219.51</td>\n",
       "    </tr>\n",
       "    <tr>\n",
       "      <th>Shirt</th>\n",
       "      <td>11944.01</td>\n",
       "    </tr>\n",
       "    <tr>\n",
       "      <th>Shoes</th>\n",
       "      <td>6924.36</td>\n",
       "    </tr>\n",
       "    <tr>\n",
       "      <th rowspan=\"3\" valign=\"top\">Kerluke, Reilly and Bechtelar</th>\n",
       "      <th>Belt</th>\n",
       "      <td>4102.11</td>\n",
       "    </tr>\n",
       "    <tr>\n",
       "      <th>Shirt</th>\n",
       "      <td>12958.23</td>\n",
       "    </tr>\n",
       "    <tr>\n",
       "      <th>Shoes</th>\n",
       "      <td>10329.09</td>\n",
       "    </tr>\n",
       "    <tr>\n",
       "      <th rowspan=\"3\" valign=\"top\">Kihn, McClure and Denesik</th>\n",
       "      <th>Belt</th>\n",
       "      <td>10116.90</td>\n",
       "    </tr>\n",
       "    <tr>\n",
       "      <th>Shirt</th>\n",
       "      <td>18956.35</td>\n",
       "    </tr>\n",
       "    <tr>\n",
       "      <th>Shoes</th>\n",
       "      <td>9862.04</td>\n",
       "    </tr>\n",
       "    <tr>\n",
       "      <th rowspan=\"3\" valign=\"top\">Kilback-Gerlach</th>\n",
       "      <th>Belt</th>\n",
       "      <td>2863.40</td>\n",
       "    </tr>\n",
       "    <tr>\n",
       "      <th>Shirt</th>\n",
       "      <td>9904.85</td>\n",
       "    </tr>\n",
       "    <tr>\n",
       "      <th>Shoes</th>\n",
       "      <td>14218.95</td>\n",
       "    </tr>\n",
       "    <tr>\n",
       "      <th rowspan=\"3\" valign=\"top\">Koelpin PLC</th>\n",
       "      <th>Belt</th>\n",
       "      <td>5327.96</td>\n",
       "    </tr>\n",
       "    <tr>\n",
       "      <th>Shirt</th>\n",
       "      <td>7908.28</td>\n",
       "    </tr>\n",
       "    <tr>\n",
       "      <th>Shoes</th>\n",
       "      <td>13575.42</td>\n",
       "    </tr>\n",
       "    <tr>\n",
       "      <th rowspan=\"3\" valign=\"top\">Kunze Inc</th>\n",
       "      <th>Belt</th>\n",
       "      <td>4264.59</td>\n",
       "    </tr>\n",
       "    <tr>\n",
       "      <th>Shirt</th>\n",
       "      <td>15638.87</td>\n",
       "    </tr>\n",
       "    <tr>\n",
       "      <th>Shoes</th>\n",
       "      <td>14503.08</td>\n",
       "    </tr>\n",
       "    <tr>\n",
       "      <th rowspan=\"3\" valign=\"top\">Kuphal, Zieme and Kub</th>\n",
       "      <th>Belt</th>\n",
       "      <td>2009.69</td>\n",
       "    </tr>\n",
       "    <tr>\n",
       "      <th>Shirt</th>\n",
       "      <td>12101.14</td>\n",
       "    </tr>\n",
       "    <tr>\n",
       "      <th>Shoes</th>\n",
       "      <td>12921.03</td>\n",
       "    </tr>\n",
       "    <tr>\n",
       "      <th rowspan=\"3\" valign=\"top\">Senger, Upton and Breitenberg</th>\n",
       "      <th>Belt</th>\n",
       "      <td>9509.88</td>\n",
       "    </tr>\n",
       "    <tr>\n",
       "      <th>Shirt</th>\n",
       "      <td>7659.70</td>\n",
       "    </tr>\n",
       "    <tr>\n",
       "      <th>Shoes</th>\n",
       "      <td>12407.88</td>\n",
       "    </tr>\n",
       "    <tr>\n",
       "      <th rowspan=\"3\" valign=\"top\">Volkman, Goyette and Lemke</th>\n",
       "      <th>Belt</th>\n",
       "      <td>4429.01</td>\n",
       "    </tr>\n",
       "    <tr>\n",
       "      <th>Shirt</th>\n",
       "      <td>12791.27</td>\n",
       "    </tr>\n",
       "    <tr>\n",
       "      <th>Shoes</th>\n",
       "      <td>14786.59</td>\n",
       "    </tr>\n",
       "    <tr>\n",
       "      <th rowspan=\"3\" valign=\"top\">Waelchi-Fahey</th>\n",
       "      <th>Belt</th>\n",
       "      <td>8285.72</td>\n",
       "    </tr>\n",
       "    <tr>\n",
       "      <th>Shirt</th>\n",
       "      <td>11689.05</td>\n",
       "    </tr>\n",
       "    <tr>\n",
       "      <th>Shoes</th>\n",
       "      <td>8993.91</td>\n",
       "    </tr>\n",
       "    <tr>\n",
       "      <th rowspan=\"3\" valign=\"top\">Waters-Walker</th>\n",
       "      <th>Belt</th>\n",
       "      <td>5957.24</td>\n",
       "    </tr>\n",
       "    <tr>\n",
       "      <th>Shirt</th>\n",
       "      <td>18633.71</td>\n",
       "    </tr>\n",
       "    <tr>\n",
       "      <th>Shoes</th>\n",
       "      <td>12188.01</td>\n",
       "    </tr>\n",
       "  </tbody>\n",
       "</table>\n",
       "</div>"
      ],
      "text/plain": [
       "                                        ext price\n",
       "name                          category           \n",
       "Berge LLC                     Belt        6033.53\n",
       "                              Shirt       9670.24\n",
       "                              Shoes      14361.10\n",
       "Carroll PLC                   Belt        9359.26\n",
       "                              Shirt      13717.61\n",
       "                              Shoes      12857.44\n",
       "Cole-Eichmann                 Belt        8112.70\n",
       "                              Shirt      14528.01\n",
       "                              Shoes       7794.71\n",
       "Davis, Kshlerin and Reilly    Belt        1604.13\n",
       "                              Shirt       7533.03\n",
       "                              Shoes       9917.60\n",
       "Ernser, Cruickshank and Lind  Belt        5894.38\n",
       "                              Shirt      16944.19\n",
       "                              Shoes       5250.45\n",
       "Gorczany-Hahn                 Belt        3642.48\n",
       "                              Shirt      12576.83\n",
       "                              Shoes       5988.59\n",
       "Hamill-Hackett                Belt        1609.74\n",
       "                              Shirt       8880.04\n",
       "                              Shoes      12944.00\n",
       "Hegmann and Sons              Belt        4909.38\n",
       "                              Shirt      16774.47\n",
       "                              Shoes      13529.87\n",
       "Heidenreich-Bosco             Belt        6262.94\n",
       "                              Shirt       5965.25\n",
       "                              Shoes      13200.10\n",
       "Huel-Haag                     Belt        2219.51\n",
       "                              Shirt      11944.01\n",
       "                              Shoes       6924.36\n",
       "Kerluke, Reilly and Bechtelar Belt        4102.11\n",
       "                              Shirt      12958.23\n",
       "                              Shoes      10329.09\n",
       "Kihn, McClure and Denesik     Belt       10116.90\n",
       "                              Shirt      18956.35\n",
       "                              Shoes       9862.04\n",
       "Kilback-Gerlach               Belt        2863.40\n",
       "                              Shirt       9904.85\n",
       "                              Shoes      14218.95\n",
       "Koelpin PLC                   Belt        5327.96\n",
       "                              Shirt       7908.28\n",
       "                              Shoes      13575.42\n",
       "Kunze Inc                     Belt        4264.59\n",
       "                              Shirt      15638.87\n",
       "                              Shoes      14503.08\n",
       "Kuphal, Zieme and Kub         Belt        2009.69\n",
       "                              Shirt      12101.14\n",
       "                              Shoes      12921.03\n",
       "Senger, Upton and Breitenberg Belt        9509.88\n",
       "                              Shirt       7659.70\n",
       "                              Shoes      12407.88\n",
       "Volkman, Goyette and Lemke    Belt        4429.01\n",
       "                              Shirt      12791.27\n",
       "                              Shoes      14786.59\n",
       "Waelchi-Fahey                 Belt        8285.72\n",
       "                              Shirt      11689.05\n",
       "                              Shoes       8993.91\n",
       "Waters-Walker                 Belt        5957.24\n",
       "                              Shirt      18633.71\n",
       "                              Shoes      12188.01"
      ]
     },
     "execution_count": 15,
     "metadata": {},
     "output_type": "execute_result"
    }
   ],
   "source": [
    "category_group = customers.groupby(['name','category']).sum()\n",
    "category_group"
   ]
  },
  {
   "cell_type": "markdown",
   "metadata": {},
   "source": [
    "Ahora, es necesario \"desapilar\" con \"unstack\" para poder crear una grafica \"apilada\".\n"
   ]
  },
  {
   "cell_type": "code",
   "execution_count": 16,
   "metadata": {},
   "outputs": [
    {
     "data": {
      "text/html": [
       "<div>\n",
       "<style scoped>\n",
       "    .dataframe tbody tr th:only-of-type {\n",
       "        vertical-align: middle;\n",
       "    }\n",
       "\n",
       "    .dataframe tbody tr th {\n",
       "        vertical-align: top;\n",
       "    }\n",
       "\n",
       "    .dataframe thead tr th {\n",
       "        text-align: left;\n",
       "    }\n",
       "\n",
       "    .dataframe thead tr:last-of-type th {\n",
       "        text-align: right;\n",
       "    }\n",
       "</style>\n",
       "<table border=\"1\" class=\"dataframe\">\n",
       "  <thead>\n",
       "    <tr>\n",
       "      <th></th>\n",
       "      <th colspan=\"3\" halign=\"left\">ext price</th>\n",
       "    </tr>\n",
       "    <tr>\n",
       "      <th>category</th>\n",
       "      <th>Belt</th>\n",
       "      <th>Shirt</th>\n",
       "      <th>Shoes</th>\n",
       "    </tr>\n",
       "    <tr>\n",
       "      <th>name</th>\n",
       "      <th></th>\n",
       "      <th></th>\n",
       "      <th></th>\n",
       "    </tr>\n",
       "  </thead>\n",
       "  <tbody>\n",
       "    <tr>\n",
       "      <th>Berge LLC</th>\n",
       "      <td>6033.53</td>\n",
       "      <td>9670.24</td>\n",
       "      <td>14361.10</td>\n",
       "    </tr>\n",
       "    <tr>\n",
       "      <th>Carroll PLC</th>\n",
       "      <td>9359.26</td>\n",
       "      <td>13717.61</td>\n",
       "      <td>12857.44</td>\n",
       "    </tr>\n",
       "    <tr>\n",
       "      <th>Cole-Eichmann</th>\n",
       "      <td>8112.70</td>\n",
       "      <td>14528.01</td>\n",
       "      <td>7794.71</td>\n",
       "    </tr>\n",
       "    <tr>\n",
       "      <th>Davis, Kshlerin and Reilly</th>\n",
       "      <td>1604.13</td>\n",
       "      <td>7533.03</td>\n",
       "      <td>9917.60</td>\n",
       "    </tr>\n",
       "    <tr>\n",
       "      <th>Ernser, Cruickshank and Lind</th>\n",
       "      <td>5894.38</td>\n",
       "      <td>16944.19</td>\n",
       "      <td>5250.45</td>\n",
       "    </tr>\n",
       "  </tbody>\n",
       "</table>\n",
       "</div>"
      ],
      "text/plain": [
       "                             ext price                    \n",
       "category                          Belt     Shirt     Shoes\n",
       "name                                                      \n",
       "Berge LLC                      6033.53   9670.24  14361.10\n",
       "Carroll PLC                    9359.26  13717.61  12857.44\n",
       "Cole-Eichmann                  8112.70  14528.01   7794.71\n",
       "Davis, Kshlerin and Reilly     1604.13   7533.03   9917.60\n",
       "Ernser, Cruickshank and Lind   5894.38  16944.19   5250.45"
      ]
     },
     "execution_count": 16,
     "metadata": {},
     "output_type": "execute_result"
    }
   ],
   "source": [
    "category_group.unstack().head()"
   ]
  },
  {
   "cell_type": "markdown",
   "metadata": {},
   "source": [
    "Vamos a personalizar labels, leyendas y ubicacion de la leyenda."
   ]
  },
  {
   "cell_type": "code",
   "execution_count": 17,
   "metadata": {},
   "outputs": [
    {
     "data": {
      "text/plain": [
       "<matplotlib.legend.Legend at 0x1a20824a58>"
      ]
     },
     "execution_count": 17,
     "metadata": {},
     "output_type": "execute_result"
    },
    {
     "data": {
      "image/png": "[encoded data removed]",
      "text/plain": [
       "<Figure size 648x504 with 1 Axes>"
      ]
     },
     "metadata": {
      "needs_background": "light"
     },
     "output_type": "display_data"
    }
   ],
   "source": [
    "my_plot = category_group.unstack().plot(kind='bar',stacked=True,title='Ventas por cliente',figsize=(9, 7))\n",
    "my_plot.set_xlabel(\"Clientes\")\n",
    "my_plot.set_ylabel(\"Ventas\")\n",
    "my_plot.legend([\"Belts\",\"Shirts\",\"Shoes\"], loc=9,ncol=4)\n"
   ]
  },
  {
   "cell_type": "markdown",
   "metadata": {},
   "source": [
    "Vamos a generar una agrupacion por fecha para analizar evolucion de las ventas en el tiempo, veremos la forma de hacerlo por categoria tambien."
   ]
  },
  {
   "cell_type": "code",
   "execution_count": 18,
   "metadata": {},
   "outputs": [
    {
     "data": {
      "text/plain": [
       "<matplotlib.axes._subplots.AxesSubplot at 0x1a20913a58>"
      ]
     },
     "execution_count": 18,
     "metadata": {},
     "output_type": "execute_result"
    },
    {
     "data": {
      "image/png": "[encoded data removed]",
      "text/plain": [
       "<Figure size 720x720 with 1 Axes>"
      ]
     },
     "metadata": {
      "needs_background": "light"
     },
     "output_type": "display_data"
    }
   ],
   "source": [
    "date_group = customers.groupby(['date','category']).sum()\n",
    "date_group.reset_index()\n",
    "date_group.unstack().plot(title='Evolucion de ventas por categoria',figsize=(10, 10))\n",
    "#date_group.unstack().plot(subplots=True,title='Evolucion de ventas por categoria',figsize=(10, 10))\n",
    "#date_group.unstack().hist(figsize=(10,10))"
   ]
  },
  {
   "cell_type": "markdown",
   "metadata": {},
   "source": [
    "Ahora, si queremos hacer una visualizacion de porcentajes, es decir, comparar las proporciones de venta de cada cliente, es necesario crear un nuevo dataframe agrupando por cliente y calculando la suma."
   ]
  },
  {
   "cell_type": "code",
   "execution_count": 20,
   "metadata": {},
   "outputs": [
    {
     "data": {
      "text/html": [
       "<div>\n",
       "<style scoped>\n",
       "    .dataframe tbody tr th:only-of-type {\n",
       "        vertical-align: middle;\n",
       "    }\n",
       "\n",
       "    .dataframe tbody tr th {\n",
       "        vertical-align: top;\n",
       "    }\n",
       "\n",
       "    .dataframe thead th {\n",
       "        text-align: right;\n",
       "    }\n",
       "</style>\n",
       "<table border=\"1\" class=\"dataframe\">\n",
       "  <thead>\n",
       "    <tr style=\"text-align: right;\">\n",
       "      <th></th>\n",
       "      <th>ext price</th>\n",
       "    </tr>\n",
       "    <tr>\n",
       "      <th>name</th>\n",
       "      <th></th>\n",
       "    </tr>\n",
       "  </thead>\n",
       "  <tbody>\n",
       "    <tr>\n",
       "      <th>Berge LLC</th>\n",
       "      <td>30064.87</td>\n",
       "    </tr>\n",
       "    <tr>\n",
       "      <th>Carroll PLC</th>\n",
       "      <td>35934.31</td>\n",
       "    </tr>\n",
       "    <tr>\n",
       "      <th>Cole-Eichmann</th>\n",
       "      <td>30435.42</td>\n",
       "    </tr>\n",
       "    <tr>\n",
       "      <th>Davis, Kshlerin and Reilly</th>\n",
       "      <td>19054.76</td>\n",
       "    </tr>\n",
       "    <tr>\n",
       "      <th>Ernser, Cruickshank and Lind</th>\n",
       "      <td>28089.02</td>\n",
       "    </tr>\n",
       "  </tbody>\n",
       "</table>\n",
       "</div>"
      ],
      "text/plain": [
       "                              ext price\n",
       "name                                   \n",
       "Berge LLC                      30064.87\n",
       "Carroll PLC                    35934.31\n",
       "Cole-Eichmann                  30435.42\n",
       "Davis, Kshlerin and Reilly     19054.76\n",
       "Ernser, Cruickshank and Lind   28089.02"
      ]
     },
     "execution_count": 20,
     "metadata": {},
     "output_type": "execute_result"
    }
   ],
   "source": [
    "# Por renglon\n",
    "customer_total = customers.groupby(['name']).sum()\n",
    "customer_total.head()"
   ]
  },
  {
   "cell_type": "markdown",
   "metadata": {},
   "source": [
    "Ahora, vamos a generar el la suma agregada por cliente y categoria, luego, vamos a dividir el resultante por el total del cliente, calculado en el dataframe customer_total y uniendo con level por nombre del cliente (level='name')"
   ]
  },
  {
   "cell_type": "code",
   "execution_count": 21,
   "metadata": {},
   "outputs": [
    {
     "data": {
      "text/html": [
       "<div>\n",
       "<style scoped>\n",
       "    .dataframe tbody tr th:only-of-type {\n",
       "        vertical-align: middle;\n",
       "    }\n",
       "\n",
       "    .dataframe tbody tr th {\n",
       "        vertical-align: top;\n",
       "    }\n",
       "\n",
       "    .dataframe thead th {\n",
       "        text-align: right;\n",
       "    }\n",
       "</style>\n",
       "<table border=\"1\" class=\"dataframe\">\n",
       "  <thead>\n",
       "    <tr style=\"text-align: right;\">\n",
       "      <th></th>\n",
       "      <th></th>\n",
       "      <th>ext price</th>\n",
       "    </tr>\n",
       "    <tr>\n",
       "      <th>name</th>\n",
       "      <th>category</th>\n",
       "      <th></th>\n",
       "    </tr>\n",
       "  </thead>\n",
       "  <tbody>\n",
       "    <tr>\n",
       "      <th rowspan=\"3\" valign=\"top\">Berge LLC</th>\n",
       "      <th>Belt</th>\n",
       "      <td>0.200684</td>\n",
       "    </tr>\n",
       "    <tr>\n",
       "      <th>Shirt</th>\n",
       "      <td>0.321646</td>\n",
       "    </tr>\n",
       "    <tr>\n",
       "      <th>Shoes</th>\n",
       "      <td>0.477670</td>\n",
       "    </tr>\n",
       "    <tr>\n",
       "      <th rowspan=\"2\" valign=\"top\">Carroll PLC</th>\n",
       "      <th>Belt</th>\n",
       "      <td>0.260455</td>\n",
       "    </tr>\n",
       "    <tr>\n",
       "      <th>Shirt</th>\n",
       "      <td>0.381741</td>\n",
       "    </tr>\n",
       "  </tbody>\n",
       "</table>\n",
       "</div>"
      ],
      "text/plain": [
       "                      ext price\n",
       "name        category           \n",
       "Berge LLC   Belt       0.200684\n",
       "            Shirt      0.321646\n",
       "            Shoes      0.477670\n",
       "Carroll PLC Belt       0.260455\n",
       "            Shirt      0.381741"
      ]
     },
     "execution_count": 21,
     "metadata": {},
     "output_type": "execute_result"
    }
   ],
   "source": [
    "\n",
    "customer_pct = customers.groupby(['name','category']).sum().div(customer_total,level='name')\n",
    "customer_pct.head()"
   ]
  },
  {
   "cell_type": "markdown",
   "metadata": {},
   "source": [
    "Finalmente, vamos a generar el gráfico, primero invocamos unstack para convertir los índices de renglón en índices de columna. Luego graficamos, es necesario ajustar el límite con set_ylim."
   ]
  },
  {
   "cell_type": "code",
   "execution_count": 22,
   "metadata": {},
   "outputs": [
    {
     "data": {
      "text/plain": [
       "(0, 1.0)"
      ]
     },
     "execution_count": 22,
     "metadata": {},
     "output_type": "execute_result"
    },
    {
     "data": {
      "image/png": "[encoded data removed]",
      "text/plain": [
       "<Figure size 648x504 with 1 Axes>"
      ]
     },
     "metadata": {
      "needs_background": "light"
     },
     "output_type": "display_data"
    }
   ],
   "source": [
    "my_plot = customer_pct.unstack().plot(kind='bar',stacked=True, figsize=(9, 7))\n",
    "my_plot.set_ylim(0,1.0)"
   ]
  },
  {
   "cell_type": "code",
   "execution_count": 23,
   "metadata": {
    "scrolled": true
   },
   "outputs": [
    {
     "data": {
      "text/html": [
       "<div>\n",
       "<style scoped>\n",
       "    .dataframe tbody tr th:only-of-type {\n",
       "        vertical-align: middle;\n",
       "    }\n",
       "\n",
       "    .dataframe tbody tr th {\n",
       "        vertical-align: top;\n",
       "    }\n",
       "\n",
       "    .dataframe thead tr th {\n",
       "        text-align: left;\n",
       "    }\n",
       "\n",
       "    .dataframe thead tr:last-of-type th {\n",
       "        text-align: right;\n",
       "    }\n",
       "</style>\n",
       "<table border=\"1\" class=\"dataframe\">\n",
       "  <thead>\n",
       "    <tr>\n",
       "      <th></th>\n",
       "      <th colspan=\"3\" halign=\"left\">ext price</th>\n",
       "      <th>Total</th>\n",
       "      <th>BeltR</th>\n",
       "      <th>ShirtR</th>\n",
       "      <th>ShoeR</th>\n",
       "    </tr>\n",
       "    <tr>\n",
       "      <th>category</th>\n",
       "      <th>Belt</th>\n",
       "      <th>Shirt</th>\n",
       "      <th>Shoes</th>\n",
       "      <th></th>\n",
       "      <th></th>\n",
       "      <th></th>\n",
       "      <th></th>\n",
       "    </tr>\n",
       "    <tr>\n",
       "      <th>name</th>\n",
       "      <th></th>\n",
       "      <th></th>\n",
       "      <th></th>\n",
       "      <th></th>\n",
       "      <th></th>\n",
       "      <th></th>\n",
       "      <th></th>\n",
       "    </tr>\n",
       "  </thead>\n",
       "  <tbody>\n",
       "    <tr>\n",
       "      <th>Berge LLC</th>\n",
       "      <td>6033.53</td>\n",
       "      <td>9670.24</td>\n",
       "      <td>14361.10</td>\n",
       "      <td>30064.87</td>\n",
       "      <td>0.200684</td>\n",
       "      <td>0.321646</td>\n",
       "      <td>0.477670</td>\n",
       "    </tr>\n",
       "    <tr>\n",
       "      <th>Carroll PLC</th>\n",
       "      <td>9359.26</td>\n",
       "      <td>13717.61</td>\n",
       "      <td>12857.44</td>\n",
       "      <td>35934.31</td>\n",
       "      <td>0.260455</td>\n",
       "      <td>0.381741</td>\n",
       "      <td>0.357804</td>\n",
       "    </tr>\n",
       "    <tr>\n",
       "      <th>Cole-Eichmann</th>\n",
       "      <td>8112.70</td>\n",
       "      <td>14528.01</td>\n",
       "      <td>7794.71</td>\n",
       "      <td>30435.42</td>\n",
       "      <td>0.266555</td>\n",
       "      <td>0.477339</td>\n",
       "      <td>0.256107</td>\n",
       "    </tr>\n",
       "    <tr>\n",
       "      <th>Davis, Kshlerin and Reilly</th>\n",
       "      <td>1604.13</td>\n",
       "      <td>7533.03</td>\n",
       "      <td>9917.60</td>\n",
       "      <td>19054.76</td>\n",
       "      <td>0.084185</td>\n",
       "      <td>0.395336</td>\n",
       "      <td>0.520479</td>\n",
       "    </tr>\n",
       "    <tr>\n",
       "      <th>Ernser, Cruickshank and Lind</th>\n",
       "      <td>5894.38</td>\n",
       "      <td>16944.19</td>\n",
       "      <td>5250.45</td>\n",
       "      <td>28089.02</td>\n",
       "      <td>0.209846</td>\n",
       "      <td>0.603232</td>\n",
       "      <td>0.186922</td>\n",
       "    </tr>\n",
       "    <tr>\n",
       "      <th>Gorczany-Hahn</th>\n",
       "      <td>3642.48</td>\n",
       "      <td>12576.83</td>\n",
       "      <td>5988.59</td>\n",
       "      <td>22207.90</td>\n",
       "      <td>0.164017</td>\n",
       "      <td>0.566322</td>\n",
       "      <td>0.269660</td>\n",
       "    </tr>\n",
       "    <tr>\n",
       "      <th>Hamill-Hackett</th>\n",
       "      <td>1609.74</td>\n",
       "      <td>8880.04</td>\n",
       "      <td>12944.00</td>\n",
       "      <td>23433.78</td>\n",
       "      <td>0.068693</td>\n",
       "      <td>0.378942</td>\n",
       "      <td>0.552365</td>\n",
       "    </tr>\n",
       "    <tr>\n",
       "      <th>Hegmann and Sons</th>\n",
       "      <td>4909.38</td>\n",
       "      <td>16774.47</td>\n",
       "      <td>13529.87</td>\n",
       "      <td>35213.72</td>\n",
       "      <td>0.139417</td>\n",
       "      <td>0.476362</td>\n",
       "      <td>0.384222</td>\n",
       "    </tr>\n",
       "    <tr>\n",
       "      <th>Heidenreich-Bosco</th>\n",
       "      <td>6262.94</td>\n",
       "      <td>5965.25</td>\n",
       "      <td>13200.10</td>\n",
       "      <td>25428.29</td>\n",
       "      <td>0.246298</td>\n",
       "      <td>0.234591</td>\n",
       "      <td>0.519111</td>\n",
       "    </tr>\n",
       "    <tr>\n",
       "      <th>Huel-Haag</th>\n",
       "      <td>2219.51</td>\n",
       "      <td>11944.01</td>\n",
       "      <td>6924.36</td>\n",
       "      <td>21087.88</td>\n",
       "      <td>0.105251</td>\n",
       "      <td>0.566392</td>\n",
       "      <td>0.328357</td>\n",
       "    </tr>\n",
       "    <tr>\n",
       "      <th>Kerluke, Reilly and Bechtelar</th>\n",
       "      <td>4102.11</td>\n",
       "      <td>12958.23</td>\n",
       "      <td>10329.09</td>\n",
       "      <td>27389.43</td>\n",
       "      <td>0.149770</td>\n",
       "      <td>0.473111</td>\n",
       "      <td>0.377120</td>\n",
       "    </tr>\n",
       "    <tr>\n",
       "      <th>Kihn, McClure and Denesik</th>\n",
       "      <td>10116.90</td>\n",
       "      <td>18956.35</td>\n",
       "      <td>9862.04</td>\n",
       "      <td>38935.29</td>\n",
       "      <td>0.259839</td>\n",
       "      <td>0.486868</td>\n",
       "      <td>0.253293</td>\n",
       "    </tr>\n",
       "    <tr>\n",
       "      <th>Kilback-Gerlach</th>\n",
       "      <td>2863.40</td>\n",
       "      <td>9904.85</td>\n",
       "      <td>14218.95</td>\n",
       "      <td>26987.20</td>\n",
       "      <td>0.106102</td>\n",
       "      <td>0.367020</td>\n",
       "      <td>0.526878</td>\n",
       "    </tr>\n",
       "    <tr>\n",
       "      <th>Koelpin PLC</th>\n",
       "      <td>5327.96</td>\n",
       "      <td>7908.28</td>\n",
       "      <td>13575.42</td>\n",
       "      <td>26811.66</td>\n",
       "      <td>0.198718</td>\n",
       "      <td>0.294957</td>\n",
       "      <td>0.506325</td>\n",
       "    </tr>\n",
       "    <tr>\n",
       "      <th>Kunze Inc</th>\n",
       "      <td>4264.59</td>\n",
       "      <td>15638.87</td>\n",
       "      <td>14503.08</td>\n",
       "      <td>34406.54</td>\n",
       "      <td>0.123947</td>\n",
       "      <td>0.454532</td>\n",
       "      <td>0.421521</td>\n",
       "    </tr>\n",
       "    <tr>\n",
       "      <th>Kuphal, Zieme and Kub</th>\n",
       "      <td>2009.69</td>\n",
       "      <td>12101.14</td>\n",
       "      <td>12921.03</td>\n",
       "      <td>27031.86</td>\n",
       "      <td>0.074345</td>\n",
       "      <td>0.447662</td>\n",
       "      <td>0.477993</td>\n",
       "    </tr>\n",
       "    <tr>\n",
       "      <th>Senger, Upton and Breitenberg</th>\n",
       "      <td>9509.88</td>\n",
       "      <td>7659.70</td>\n",
       "      <td>12407.88</td>\n",
       "      <td>29577.46</td>\n",
       "      <td>0.321525</td>\n",
       "      <td>0.258971</td>\n",
       "      <td>0.419505</td>\n",
       "    </tr>\n",
       "    <tr>\n",
       "      <th>Volkman, Goyette and Lemke</th>\n",
       "      <td>4429.01</td>\n",
       "      <td>12791.27</td>\n",
       "      <td>14786.59</td>\n",
       "      <td>32006.87</td>\n",
       "      <td>0.138377</td>\n",
       "      <td>0.399641</td>\n",
       "      <td>0.461982</td>\n",
       "    </tr>\n",
       "    <tr>\n",
       "      <th>Waelchi-Fahey</th>\n",
       "      <td>8285.72</td>\n",
       "      <td>11689.05</td>\n",
       "      <td>8993.91</td>\n",
       "      <td>28968.68</td>\n",
       "      <td>0.286023</td>\n",
       "      <td>0.403506</td>\n",
       "      <td>0.310470</td>\n",
       "    </tr>\n",
       "    <tr>\n",
       "      <th>Waters-Walker</th>\n",
       "      <td>5957.24</td>\n",
       "      <td>18633.71</td>\n",
       "      <td>12188.01</td>\n",
       "      <td>36778.96</td>\n",
       "      <td>0.161974</td>\n",
       "      <td>0.506640</td>\n",
       "      <td>0.331385</td>\n",
       "    </tr>\n",
       "  </tbody>\n",
       "</table>\n",
       "</div>"
      ],
      "text/plain": [
       "                              ext price                         Total  \\\n",
       "category                           Belt     Shirt     Shoes             \n",
       "name                                                                    \n",
       "Berge LLC                       6033.53   9670.24  14361.10  30064.87   \n",
       "Carroll PLC                     9359.26  13717.61  12857.44  35934.31   \n",
       "Cole-Eichmann                   8112.70  14528.01   7794.71  30435.42   \n",
       "Davis, Kshlerin and Reilly      1604.13   7533.03   9917.60  19054.76   \n",
       "Ernser, Cruickshank and Lind    5894.38  16944.19   5250.45  28089.02   \n",
       "Gorczany-Hahn                   3642.48  12576.83   5988.59  22207.90   \n",
       "Hamill-Hackett                  1609.74   8880.04  12944.00  23433.78   \n",
       "Hegmann and Sons                4909.38  16774.47  13529.87  35213.72   \n",
       "Heidenreich-Bosco               6262.94   5965.25  13200.10  25428.29   \n",
       "Huel-Haag                       2219.51  11944.01   6924.36  21087.88   \n",
       "Kerluke, Reilly and Bechtelar   4102.11  12958.23  10329.09  27389.43   \n",
       "Kihn, McClure and Denesik      10116.90  18956.35   9862.04  38935.29   \n",
       "Kilback-Gerlach                 2863.40   9904.85  14218.95  26987.20   \n",
       "Koelpin PLC                     5327.96   7908.28  13575.42  26811.66   \n",
       "Kunze Inc                       4264.59  15638.87  14503.08  34406.54   \n",
       "Kuphal, Zieme and Kub           2009.69  12101.14  12921.03  27031.86   \n",
       "Senger, Upton and Breitenberg   9509.88   7659.70  12407.88  29577.46   \n",
       "Volkman, Goyette and Lemke      4429.01  12791.27  14786.59  32006.87   \n",
       "Waelchi-Fahey                   8285.72  11689.05   8993.91  28968.68   \n",
       "Waters-Walker                   5957.24  18633.71  12188.01  36778.96   \n",
       "\n",
       "                                  BeltR    ShirtR     ShoeR  \n",
       "category                                                     \n",
       "name                                                         \n",
       "Berge LLC                      0.200684  0.321646  0.477670  \n",
       "Carroll PLC                    0.260455  0.381741  0.357804  \n",
       "Cole-Eichmann                  0.266555  0.477339  0.256107  \n",
       "Davis, Kshlerin and Reilly     0.084185  0.395336  0.520479  \n",
       "Ernser, Cruickshank and Lind   0.209846  0.603232  0.186922  \n",
       "Gorczany-Hahn                  0.164017  0.566322  0.269660  \n",
       "Hamill-Hackett                 0.068693  0.378942  0.552365  \n",
       "Hegmann and Sons               0.139417  0.476362  0.384222  \n",
       "Heidenreich-Bosco              0.246298  0.234591  0.519111  \n",
       "Huel-Haag                      0.105251  0.566392  0.328357  \n",
       "Kerluke, Reilly and Bechtelar  0.149770  0.473111  0.377120  \n",
       "Kihn, McClure and Denesik      0.259839  0.486868  0.253293  \n",
       "Kilback-Gerlach                0.106102  0.367020  0.526878  \n",
       "Koelpin PLC                    0.198718  0.294957  0.506325  \n",
       "Kunze Inc                      0.123947  0.454532  0.421521  \n",
       "Kuphal, Zieme and Kub          0.074345  0.447662  0.477993  \n",
       "Senger, Upton and Breitenberg  0.321525  0.258971  0.419505  \n",
       "Volkman, Goyette and Lemke     0.138377  0.399641  0.461982  \n",
       "Waelchi-Fahey                  0.286023  0.403506  0.310470  \n",
       "Waters-Walker                  0.161974  0.506640  0.331385  "
      ]
     },
     "execution_count": 23,
     "metadata": {},
     "output_type": "execute_result"
    }
   ],
   "source": [
    "# Por columna\n",
    "cc = customers.groupby(['name','category']).sum().unstack()\n",
    "cc['Total'] = cc['ext price']['Belt'] + cc['ext price']['Shirt'] + cc['ext price']['Shoes']\n",
    "cc['BeltR'] = cc['ext price']['Belt'] / cc['Total']\n",
    "cc['ShirtR'] = cc['ext price']['Shirt'] / cc['Total']\n",
    "cc['ShoeR'] = cc['ext price']['Shoes'] / cc['Total']\n",
    "cc\n"
   ]
  },
  {
   "cell_type": "code",
   "execution_count": 24,
   "metadata": {},
   "outputs": [
    {
     "data": {
      "text/plain": [
       "<matplotlib.axes._subplots.AxesSubplot at 0x1a210c53c8>"
      ]
     },
     "execution_count": 24,
     "metadata": {},
     "output_type": "execute_result"
    },
    {
     "data": {
      "image/png": "[encoded data removed]",
      "text/plain": [
       "<Figure size 648x504 with 1 Axes>"
      ]
     },
     "metadata": {
      "needs_background": "light"
     },
     "output_type": "display_data"
    }
   ],
   "source": [
    "cc[['BeltR','ShirtR','ShoeR']].plot(kind='bar',stacked=True, figsize=(9, 7))"
   ]
  },
  {
   "cell_type": "markdown",
   "metadata": {},
   "source": [
    "## ¿Qué sigue?\n",
    "\n",
    "Para mejorar la presentación de los charts de Matplotlib y facilitar algunos procesos, se tiene Seaborn:\n",
    "    \n",
    "https://stanford.edu/~mwaskom/software/seaborn/\n"
   ]
  },
  {
   "cell_type": "markdown",
   "metadata": {},
   "source": [
    "\n",
    "\n",
    "\n"
   ]
  }
 ],
 "metadata": {
  "kernelspec": {
   "display_name": "Python 3",
   "language": "python",
   "name": "python3"
  },
  "language_info": {
   "codemirror_mode": {
    "name": "ipython",
    "version": 3
   },
   "file_extension": ".py",
   "mimetype": "text/x-python",
   "name": "python",
   "nbconvert_exporter": "python",
   "pygments_lexer": "ipython3",
   "version": "3.7.2"
  }
 },
 "nbformat": 4,
 "nbformat_minor": 1
}
